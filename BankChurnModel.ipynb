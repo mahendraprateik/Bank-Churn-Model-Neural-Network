{
 "cells": [
  {
   "cell_type": "code",
   "execution_count": 52,
   "metadata": {},
   "outputs": [],
   "source": [
    "# Importing libraries\n",
    "import numpy as np\n",
    "import pandas as pd\n",
    "import matplotlib.pyplot as plt"
   ]
  },
  {
   "cell_type": "code",
   "execution_count": 53,
   "metadata": {},
   "outputs": [
    {
     "data": {
      "text/plain": [
       "Index(['RowNumber', 'CustomerId', 'Surname', 'CreditScore', 'Geography',\n",
       "       'Gender', 'Age', 'Tenure', 'Balance', 'NumOfProducts', 'HasCrCard',\n",
       "       'IsActiveMember', 'EstimatedSalary', 'Exited'],\n",
       "      dtype='object')"
      ]
     },
     "execution_count": 53,
     "metadata": {},
     "output_type": "execute_result"
    }
   ],
   "source": [
    "# Importing the dataset\n",
    "dataset = pd.read_csv(\"Churn_Modelling.csv\")\n",
    "dataset.columns"
   ]
  },
  {
   "cell_type": "code",
   "execution_count": 54,
   "metadata": {},
   "outputs": [],
   "source": [
    "# Removing unnecessary columns\n",
    "dataset = dataset.iloc[:,3:]"
   ]
  },
  {
   "cell_type": "code",
   "execution_count": 55,
   "metadata": {},
   "outputs": [
    {
     "data": {
      "text/html": [
       "<div>\n",
       "<style>\n",
       "    .dataframe thead tr:only-child th {\n",
       "        text-align: right;\n",
       "    }\n",
       "\n",
       "    .dataframe thead th {\n",
       "        text-align: left;\n",
       "    }\n",
       "\n",
       "    .dataframe tbody tr th {\n",
       "        vertical-align: top;\n",
       "    }\n",
       "</style>\n",
       "<table border=\"1\" class=\"dataframe\">\n",
       "  <thead>\n",
       "    <tr style=\"text-align: right;\">\n",
       "      <th></th>\n",
       "      <th>CreditScore</th>\n",
       "      <th>Geography</th>\n",
       "      <th>Gender</th>\n",
       "      <th>Age</th>\n",
       "      <th>Tenure</th>\n",
       "      <th>Balance</th>\n",
       "      <th>NumOfProducts</th>\n",
       "      <th>HasCrCard</th>\n",
       "      <th>IsActiveMember</th>\n",
       "      <th>EstimatedSalary</th>\n",
       "      <th>Exited</th>\n",
       "    </tr>\n",
       "  </thead>\n",
       "  <tbody>\n",
       "    <tr>\n",
       "      <th>0</th>\n",
       "      <td>619</td>\n",
       "      <td>France</td>\n",
       "      <td>Female</td>\n",
       "      <td>42</td>\n",
       "      <td>2</td>\n",
       "      <td>0.0</td>\n",
       "      <td>1</td>\n",
       "      <td>1</td>\n",
       "      <td>1</td>\n",
       "      <td>101348.88</td>\n",
       "      <td>1</td>\n",
       "    </tr>\n",
       "  </tbody>\n",
       "</table>\n",
       "</div>"
      ],
      "text/plain": [
       "   CreditScore Geography  Gender  Age  Tenure  Balance  NumOfProducts  \\\n",
       "0          619    France  Female   42       2      0.0              1   \n",
       "\n",
       "   HasCrCard  IsActiveMember  EstimatedSalary  Exited  \n",
       "0          1               1        101348.88       1  "
      ]
     },
     "execution_count": 55,
     "metadata": {},
     "output_type": "execute_result"
    }
   ],
   "source": [
    "dataset.head(1)"
   ]
  },
  {
   "cell_type": "code",
   "execution_count": 56,
   "metadata": {},
   "outputs": [
    {
     "data": {
      "text/html": [
       "<div>\n",
       "<style>\n",
       "    .dataframe thead tr:only-child th {\n",
       "        text-align: right;\n",
       "    }\n",
       "\n",
       "    .dataframe thead th {\n",
       "        text-align: left;\n",
       "    }\n",
       "\n",
       "    .dataframe tbody tr th {\n",
       "        vertical-align: top;\n",
       "    }\n",
       "</style>\n",
       "<table border=\"1\" class=\"dataframe\">\n",
       "  <thead>\n",
       "    <tr style=\"text-align: right;\">\n",
       "      <th></th>\n",
       "      <th>CreditScore</th>\n",
       "      <th>Age</th>\n",
       "      <th>Tenure</th>\n",
       "      <th>Balance</th>\n",
       "      <th>NumOfProducts</th>\n",
       "      <th>HasCrCard</th>\n",
       "      <th>IsActiveMember</th>\n",
       "      <th>EstimatedSalary</th>\n",
       "      <th>Geography_Germany</th>\n",
       "      <th>Geography_Spain</th>\n",
       "      <th>Gender_Male</th>\n",
       "      <th>Exited</th>\n",
       "    </tr>\n",
       "  </thead>\n",
       "  <tbody>\n",
       "    <tr>\n",
       "      <th>0</th>\n",
       "      <td>619</td>\n",
       "      <td>42</td>\n",
       "      <td>2</td>\n",
       "      <td>0.00</td>\n",
       "      <td>1</td>\n",
       "      <td>1</td>\n",
       "      <td>1</td>\n",
       "      <td>101348.88</td>\n",
       "      <td>0</td>\n",
       "      <td>0</td>\n",
       "      <td>0</td>\n",
       "      <td>1</td>\n",
       "    </tr>\n",
       "    <tr>\n",
       "      <th>1</th>\n",
       "      <td>608</td>\n",
       "      <td>41</td>\n",
       "      <td>1</td>\n",
       "      <td>83807.86</td>\n",
       "      <td>1</td>\n",
       "      <td>0</td>\n",
       "      <td>1</td>\n",
       "      <td>112542.58</td>\n",
       "      <td>0</td>\n",
       "      <td>1</td>\n",
       "      <td>0</td>\n",
       "      <td>0</td>\n",
       "    </tr>\n",
       "  </tbody>\n",
       "</table>\n",
       "</div>"
      ],
      "text/plain": [
       "   CreditScore  Age  Tenure   Balance  NumOfProducts  HasCrCard  \\\n",
       "0          619   42       2      0.00              1          1   \n",
       "1          608   41       1  83807.86              1          0   \n",
       "\n",
       "   IsActiveMember  EstimatedSalary  Geography_Germany  Geography_Spain  \\\n",
       "0               1        101348.88                  0                0   \n",
       "1               1        112542.58                  0                1   \n",
       "\n",
       "   Gender_Male  Exited  \n",
       "0            0       1  \n",
       "1            0       0  "
      ]
     },
     "execution_count": 56,
     "metadata": {},
     "output_type": "execute_result"
    }
   ],
   "source": [
    "n = dataset['Exited']\n",
    "dataset.drop('Exited', axis = 1, inplace = True)\n",
    "dataset = pd.get_dummies(dataset, drop_first = True)\n",
    "dataset['Exited'] = n\n",
    "dataset.head(2)"
   ]
  },
  {
   "cell_type": "code",
   "execution_count": 57,
   "metadata": {},
   "outputs": [],
   "source": [
    "# Creating X and Y\n",
    "X = dataset.iloc[:,:11].values\n",
    "y = dataset.iloc[:,-1].values"
   ]
  },
  {
   "cell_type": "code",
   "execution_count": 58,
   "metadata": {},
   "outputs": [],
   "source": [
    "# Splitting into test and train\n",
    "from sklearn.cross_validation import train_test_split\n",
    "X_train, X_test, y_train, y_test = train_test_split(X, y, test_size = 0.2, random_state = 1)"
   ]
  },
  {
   "cell_type": "code",
   "execution_count": 59,
   "metadata": {},
   "outputs": [],
   "source": [
    "# Scaling the features\n",
    "from sklearn.preprocessing import StandardScaler\n",
    "scale = StandardScaler()\n",
    "X_train = scale.fit_transform(X_train)\n",
    "X_test = scale.fit_transform(X_test)"
   ]
  },
  {
   "cell_type": "code",
   "execution_count": 60,
   "metadata": {},
   "outputs": [
    {
     "name": "stderr",
     "output_type": "stream",
     "text": [
      "Using TensorFlow backend.\n"
     ]
    }
   ],
   "source": [
    "# importing libraries for ANN\n",
    "import keras"
   ]
  },
  {
   "cell_type": "code",
   "execution_count": 61,
   "metadata": {
    "collapsed": true
   },
   "outputs": [],
   "source": [
    "from keras.models import Sequential\n",
    "from keras.layers import Dense"
   ]
  },
  {
   "cell_type": "code",
   "execution_count": 62,
   "metadata": {
    "collapsed": true
   },
   "outputs": [],
   "source": [
    "# initializing the ANN\n",
    "ann = Sequential()"
   ]
  },
  {
   "cell_type": "code",
   "execution_count": 64,
   "metadata": {},
   "outputs": [
    {
     "name": "stderr",
     "output_type": "stream",
     "text": [
      "C:\\Users\\Prateikm\\Anaconda3\\lib\\site-packages\\ipykernel_launcher.py:2: UserWarning: Update your `Dense` call to the Keras 2 API: `Dense(activation=\"relu\", input_dim=11, units=6, kernel_initializer=\"uniform\")`\n",
      "  \n"
     ]
    }
   ],
   "source": [
    "# Adding the input layer\n",
    "ann.add(Dense(output_dim = 6, init = 'uniform', activation = 'relu', input_dim = 11))"
   ]
  },
  {
   "cell_type": "code",
   "execution_count": 65,
   "metadata": {},
   "outputs": [
    {
     "name": "stderr",
     "output_type": "stream",
     "text": [
      "C:\\Users\\Prateikm\\Anaconda3\\lib\\site-packages\\ipykernel_launcher.py:2: UserWarning: Update your `Dense` call to the Keras 2 API: `Dense(activation=\"relu\", units=6, kernel_initializer=\"uniform\")`\n",
      "  \n"
     ]
    }
   ],
   "source": [
    "# Adding the hidden layer\n",
    "ann.add(Dense(output_dim = 6, init = 'uniform', activation = 'relu'))"
   ]
  },
  {
   "cell_type": "code",
   "execution_count": 66,
   "metadata": {},
   "outputs": [
    {
     "name": "stderr",
     "output_type": "stream",
     "text": [
      "C:\\Users\\Prateikm\\Anaconda3\\lib\\site-packages\\ipykernel_launcher.py:2: UserWarning: Update your `Dense` call to the Keras 2 API: `Dense(activation=\"sigmoid\", units=1, kernel_initializer=\"uniform\")`\n",
      "  \n"
     ]
    }
   ],
   "source": [
    "# Adding the output layer - use 'softmax' if there are more than 1 categories\n",
    "ann.add(Dense(output_dim = 1, init = 'uniform', activation = 'sigmoid'))"
   ]
  },
  {
   "cell_type": "code",
   "execution_count": 67,
   "metadata": {
    "collapsed": true
   },
   "outputs": [],
   "source": [
    "# Compiling the Artificial neural network - loss function = 'binary_crossentropy' for binary and 'categorical_crossentropy'\n",
    "ann.compile(optimizer = 'adam', loss = 'binary_crossentropy', metrics=['accuracy'])"
   ]
  },
  {
   "cell_type": "code",
   "execution_count": 68,
   "metadata": {},
   "outputs": [
    {
     "name": "stderr",
     "output_type": "stream",
     "text": [
      "C:\\Users\\Prateikm\\Anaconda3\\lib\\site-packages\\keras\\models.py:939: UserWarning: The `nb_epoch` argument in `fit` has been renamed `epochs`.\n",
      "  warnings.warn('The `nb_epoch` argument in `fit` '\n"
     ]
    },
    {
     "name": "stdout",
     "output_type": "stream",
     "text": [
      "Epoch 1/100\n",
      "8000/8000 [==============================] - 2s 214us/step - loss: 0.4822 - acc: 0.7970\n",
      "Epoch 2/100\n",
      "8000/8000 [==============================] - 1s 124us/step - loss: 0.4281 - acc: 0.7972\n",
      "Epoch 3/100\n",
      "8000/8000 [==============================] - 1s 118us/step - loss: 0.4218 - acc: 0.8015\n",
      "Epoch 4/100\n",
      "8000/8000 [==============================] - 1s 122us/step - loss: 0.4184 - acc: 0.8251\n",
      "Epoch 5/100\n",
      "8000/8000 [==============================] - 1s 115us/step - loss: 0.4162 - acc: 0.8304\n",
      "Epoch 6/100\n",
      "8000/8000 [==============================] - 1s 142us/step - loss: 0.4149 - acc: 0.8296\n",
      "Epoch 7/100\n",
      "8000/8000 [==============================] - 1s 121us/step - loss: 0.4136 - acc: 0.8322\n",
      "Epoch 8/100\n",
      "8000/8000 [==============================] - 1s 116us/step - loss: 0.4121 - acc: 0.8330\n",
      "Epoch 9/100\n",
      "8000/8000 [==============================] - 1s 113us/step - loss: 0.4103 - acc: 0.8336\n",
      "Epoch 10/100\n",
      "8000/8000 [==============================] - 1s 132us/step - loss: 0.4101 - acc: 0.8349\n",
      "Epoch 11/100\n",
      "8000/8000 [==============================] - 1s 119us/step - loss: 0.4087 - acc: 0.8359\n",
      "Epoch 12/100\n",
      "8000/8000 [==============================] - 1s 104us/step - loss: 0.4084 - acc: 0.8354\n",
      "Epoch 13/100\n",
      "8000/8000 [==============================] - 1s 106us/step - loss: 0.4074 - acc: 0.8369\n",
      "Epoch 14/100\n",
      "8000/8000 [==============================] - 1s 102us/step - loss: 0.4070 - acc: 0.8360\n",
      "Epoch 15/100\n",
      "8000/8000 [==============================] - 1s 123us/step - loss: 0.4056 - acc: 0.8359\n",
      "Epoch 16/100\n",
      "8000/8000 [==============================] - 1s 102us/step - loss: 0.4060 - acc: 0.8367\n",
      "Epoch 17/100\n",
      "8000/8000 [==============================] - 1s 115us/step - loss: 0.4056 - acc: 0.8355\n",
      "Epoch 18/100\n",
      "8000/8000 [==============================] - 1s 131us/step - loss: 0.4050 - acc: 0.8360\n",
      "Epoch 19/100\n",
      "8000/8000 [==============================] - 1s 114us/step - loss: 0.4045 - acc: 0.8345\n",
      "Epoch 20/100\n",
      "8000/8000 [==============================] - 1s 112us/step - loss: 0.4044 - acc: 0.8356\n",
      "Epoch 21/100\n",
      "8000/8000 [==============================] - 1s 109us/step - loss: 0.4041 - acc: 0.8341\n",
      "Epoch 22/100\n",
      "8000/8000 [==============================] - 1s 108us/step - loss: 0.4038 - acc: 0.8351\n",
      "Epoch 23/100\n",
      "8000/8000 [==============================] - 1s 112us/step - loss: 0.4035 - acc: 0.8341\n",
      "Epoch 24/100\n",
      "8000/8000 [==============================] - 1s 100us/step - loss: 0.4036 - acc: 0.8352\n",
      "Epoch 25/100\n",
      "8000/8000 [==============================] - 1s 104us/step - loss: 0.4035 - acc: 0.8347\n",
      "Epoch 26/100\n",
      "8000/8000 [==============================] - 1s 155us/step - loss: 0.4030 - acc: 0.8391\n",
      "Epoch 27/100\n",
      "8000/8000 [==============================] - 2s 252us/step - loss: 0.4029 - acc: 0.8347\n",
      "Epoch 28/100\n",
      "8000/8000 [==============================] - 1s 166us/step - loss: 0.4023 - acc: 0.8364\n",
      "Epoch 29/100\n",
      "8000/8000 [==============================] - 1s 105us/step - loss: 0.4020 - acc: 0.8345\n",
      "Epoch 30/100\n",
      "8000/8000 [==============================] - 1s 116us/step - loss: 0.4022 - acc: 0.8347\n",
      "Epoch 31/100\n",
      "8000/8000 [==============================] - 1s 114us/step - loss: 0.4020 - acc: 0.8370\n",
      "Epoch 32/100\n",
      "8000/8000 [==============================] - 1s 147us/step - loss: 0.4018 - acc: 0.8371\n",
      "Epoch 33/100\n",
      "8000/8000 [==============================] - 1s 141us/step - loss: 0.4017 - acc: 0.8356\n",
      "Epoch 34/100\n",
      "8000/8000 [==============================] - 1s 105us/step - loss: 0.4017 - acc: 0.8365\n",
      "Epoch 35/100\n",
      "8000/8000 [==============================] - 1s 112us/step - loss: 0.4012 - acc: 0.8367\n",
      "Epoch 36/100\n",
      "8000/8000 [==============================] - 2s 207us/step - loss: 0.4015 - acc: 0.8340\n",
      "Epoch 37/100\n",
      "8000/8000 [==============================] - 1s 125us/step - loss: 0.4016 - acc: 0.8362\n",
      "Epoch 38/100\n",
      "8000/8000 [==============================] - 2s 196us/step - loss: 0.4012 - acc: 0.8371\n",
      "Epoch 39/100\n",
      "8000/8000 [==============================] - 1s 135us/step - loss: 0.4007 - acc: 0.8374\n",
      "Epoch 40/100\n",
      "8000/8000 [==============================] - 1s 106us/step - loss: 0.4013 - acc: 0.8372\n",
      "Epoch 41/100\n",
      "8000/8000 [==============================] - 1s 107us/step - loss: 0.4012 - acc: 0.8367\n",
      "Epoch 42/100\n",
      "8000/8000 [==============================] - 1s 111us/step - loss: 0.4005 - acc: 0.8347\n",
      "Epoch 43/100\n",
      "8000/8000 [==============================] - 1s 113us/step - loss: 0.4008 - acc: 0.8357\n",
      "Epoch 44/100\n",
      "8000/8000 [==============================] - 1s 113us/step - loss: 0.4007 - acc: 0.8362\n",
      "Epoch 45/100\n",
      "8000/8000 [==============================] - 1s 144us/step - loss: 0.4008 - acc: 0.8375\n",
      "Epoch 46/100\n",
      "8000/8000 [==============================] - 1s 134us/step - loss: 0.4004 - acc: 0.8355\n",
      "Epoch 47/100\n",
      "8000/8000 [==============================] - 1s 136us/step - loss: 0.4004 - acc: 0.8367\n",
      "Epoch 48/100\n",
      "8000/8000 [==============================] - 1s 129us/step - loss: 0.4009 - acc: 0.8371\n",
      "Epoch 49/100\n",
      "8000/8000 [==============================] - 1s 162us/step - loss: 0.4004 - acc: 0.8371\n",
      "Epoch 50/100\n",
      "8000/8000 [==============================] - 1s 108us/step - loss: 0.4008 - acc: 0.8364\n",
      "Epoch 51/100\n",
      "8000/8000 [==============================] - 1s 107us/step - loss: 0.3999 - acc: 0.8380\n",
      "Epoch 52/100\n",
      "8000/8000 [==============================] - 1s 104us/step - loss: 0.4005 - acc: 0.8375\n",
      "Epoch 53/100\n",
      "8000/8000 [==============================] - 1s 105us/step - loss: 0.4004 - acc: 0.8365\n",
      "Epoch 54/100\n",
      "8000/8000 [==============================] - 1s 111us/step - loss: 0.4002 - acc: 0.8362\n",
      "Epoch 55/100\n",
      "8000/8000 [==============================] - 1s 111us/step - loss: 0.4006 - acc: 0.8357\n",
      "Epoch 56/100\n",
      "8000/8000 [==============================] - 1s 103us/step - loss: 0.4004 - acc: 0.8361\n",
      "Epoch 57/100\n",
      "8000/8000 [==============================] - 1s 103us/step - loss: 0.4001 - acc: 0.8369\n",
      "Epoch 58/100\n",
      "8000/8000 [==============================] - 1s 109us/step - loss: 0.4005 - acc: 0.8360\n",
      "Epoch 59/100\n",
      "8000/8000 [==============================] - 1s 109us/step - loss: 0.4001 - acc: 0.8387\n",
      "Epoch 60/100\n",
      "8000/8000 [==============================] - 1s 123us/step - loss: 0.4004 - acc: 0.8361\n",
      "Epoch 61/100\n",
      "8000/8000 [==============================] - 1s 115us/step - loss: 0.4001 - acc: 0.8382\n",
      "Epoch 62/100\n",
      "8000/8000 [==============================] - 1s 118us/step - loss: 0.3999 - acc: 0.8354\n",
      "Epoch 63/100\n",
      "8000/8000 [==============================] - 1s 115us/step - loss: 0.4002 - acc: 0.8361\n",
      "Epoch 64/100\n",
      "8000/8000 [==============================] - 1s 123us/step - loss: 0.4002 - acc: 0.8356\n",
      "Epoch 65/100\n",
      "8000/8000 [==============================] - 1s 115us/step - loss: 0.4000 - acc: 0.8361\n",
      "Epoch 66/100\n",
      "8000/8000 [==============================] - 1s 105us/step - loss: 0.3997 - acc: 0.8354\n",
      "Epoch 67/100\n",
      "8000/8000 [==============================] - 1s 105us/step - loss: 0.4000 - acc: 0.8365\n",
      "Epoch 68/100\n",
      "8000/8000 [==============================] - 1s 106us/step - loss: 0.4002 - acc: 0.8345\n",
      "Epoch 69/100\n",
      "8000/8000 [==============================] - 1s 109us/step - loss: 0.3999 - acc: 0.8372\n",
      "Epoch 70/100\n",
      "8000/8000 [==============================] - 1s 115us/step - loss: 0.3999 - acc: 0.8352\n",
      "Epoch 71/100\n",
      "8000/8000 [==============================] - 1s 122us/step - loss: 0.3996 - acc: 0.8367\n",
      "Epoch 72/100\n",
      "8000/8000 [==============================] - 1s 105us/step - loss: 0.3999 - acc: 0.8366\n",
      "Epoch 73/100\n",
      "8000/8000 [==============================] - 1s 102us/step - loss: 0.3998 - acc: 0.8385\n",
      "Epoch 74/100\n",
      "8000/8000 [==============================] - 1s 101us/step - loss: 0.4000 - acc: 0.8375\n",
      "Epoch 75/100\n",
      "8000/8000 [==============================] - 1s 104us/step - loss: 0.3999 - acc: 0.8366\n",
      "Epoch 76/100\n",
      "8000/8000 [==============================] - 1s 107us/step - loss: 0.3999 - acc: 0.8347\n",
      "Epoch 77/100\n",
      "8000/8000 [==============================] - 1s 105us/step - loss: 0.4001 - acc: 0.8356\n",
      "Epoch 78/100\n",
      "8000/8000 [==============================] - 1s 102us/step - loss: 0.3998 - acc: 0.8362\n",
      "Epoch 79/100\n",
      "8000/8000 [==============================] - 1s 101us/step - loss: 0.3997 - acc: 0.8360\n",
      "Epoch 80/100\n",
      "8000/8000 [==============================] - 1s 100us/step - loss: 0.3997 - acc: 0.8379\n",
      "Epoch 81/100\n"
     ]
    },
    {
     "name": "stdout",
     "output_type": "stream",
     "text": [
      "8000/8000 [==============================] - 1s 100us/step - loss: 0.3995 - acc: 0.8364 0s - loss: 0.3975 \n",
      "Epoch 82/100\n",
      "8000/8000 [==============================] - 1s 104us/step - loss: 0.3995 - acc: 0.8371\n",
      "Epoch 83/100\n",
      "8000/8000 [==============================] - 1s 94us/step - loss: 0.3997 - acc: 0.8355\n",
      "Epoch 84/100\n",
      "8000/8000 [==============================] - 1s 111us/step - loss: 0.3996 - acc: 0.8369\n",
      "Epoch 85/100\n",
      "8000/8000 [==============================] - 1s 99us/step - loss: 0.3990 - acc: 0.8365\n",
      "Epoch 86/100\n",
      "8000/8000 [==============================] - 1s 149us/step - loss: 0.3992 - acc: 0.8365\n",
      "Epoch 87/100\n",
      "8000/8000 [==============================] - 1s 138us/step - loss: 0.3992 - acc: 0.8369 0s - loss: 0.4000 - acc: 0.\n",
      "Epoch 88/100\n",
      "8000/8000 [==============================] - 1s 108us/step - loss: 0.3987 - acc: 0.8361\n",
      "Epoch 89/100\n",
      "8000/8000 [==============================] - 1s 105us/step - loss: 0.3983 - acc: 0.8364\n",
      "Epoch 90/100\n",
      "8000/8000 [==============================] - 1s 105us/step - loss: 0.3983 - acc: 0.8357\n",
      "Epoch 91/100\n",
      "8000/8000 [==============================] - 1s 106us/step - loss: 0.3982 - acc: 0.8357\n",
      "Epoch 92/100\n",
      "8000/8000 [==============================] - 1s 115us/step - loss: 0.3987 - acc: 0.8354\n",
      "Epoch 93/100\n",
      "8000/8000 [==============================] - 1s 108us/step - loss: 0.3976 - acc: 0.8385\n",
      "Epoch 94/100\n",
      "8000/8000 [==============================] - 1s 105us/step - loss: 0.3975 - acc: 0.8351\n",
      "Epoch 95/100\n",
      "8000/8000 [==============================] - 1s 104us/step - loss: 0.3980 - acc: 0.8376\n",
      "Epoch 96/100\n",
      "8000/8000 [==============================] - 1s 102us/step - loss: 0.3969 - acc: 0.8372\n",
      "Epoch 97/100\n",
      "8000/8000 [==============================] - 1s 103us/step - loss: 0.3970 - acc: 0.8372\n",
      "Epoch 98/100\n",
      "8000/8000 [==============================] - 1s 116us/step - loss: 0.3961 - acc: 0.8365\n",
      "Epoch 99/100\n",
      "8000/8000 [==============================] - 1s 120us/step - loss: 0.3957 - acc: 0.8377\n",
      "Epoch 100/100\n",
      "8000/8000 [==============================] - 1s 121us/step - loss: 0.3946 - acc: 0.8370\n"
     ]
    },
    {
     "data": {
      "text/plain": [
       "<keras.callbacks.History at 0x23e0b24b9b0>"
      ]
     },
     "execution_count": 68,
     "metadata": {},
     "output_type": "execute_result"
    }
   ],
   "source": [
    "# Fitting the ann to the training set\n",
    "ann.fit(X_train, y_train, batch_size= 10, nb_epoch = 100)"
   ]
  },
  {
   "cell_type": "code",
   "execution_count": 69,
   "metadata": {},
   "outputs": [
    {
     "data": {
      "text/plain": [
       "array([[ 0.19875935],\n",
       "       [ 0.12328806],\n",
       "       [ 0.2423477 ],\n",
       "       ..., \n",
       "       [ 0.05416535],\n",
       "       [ 0.1109615 ],\n",
       "       [ 0.48247513]], dtype=float32)"
      ]
     },
     "execution_count": 69,
     "metadata": {},
     "output_type": "execute_result"
    }
   ],
   "source": [
    "# Making prediction\n",
    "y_pred = ann.predict(X_test)\n",
    "y_pred"
   ]
  },
  {
   "cell_type": "code",
   "execution_count": 70,
   "metadata": {
    "collapsed": true
   },
   "outputs": [],
   "source": [
    "# Convert probabilities into true or false - threshold = 0.5\n",
    "y_pred = (y_pred > 0.5)"
   ]
  },
  {
   "cell_type": "code",
   "execution_count": 71,
   "metadata": {
    "collapsed": true
   },
   "outputs": [],
   "source": [
    "# Making the Confusion Matrix\n",
    "from sklearn.metrics import confusion_matrix\n",
    "cm = confusion_matrix(y_test, y_pred)"
   ]
  },
  {
   "cell_type": "code",
   "execution_count": 72,
   "metadata": {},
   "outputs": [
    {
     "data": {
      "text/plain": [
       "array([[1532,   53],\n",
       "       [ 261,  154]], dtype=int64)"
      ]
     },
     "execution_count": 72,
     "metadata": {},
     "output_type": "execute_result"
    }
   ],
   "source": [
    "cm"
   ]
  },
  {
   "cell_type": "code",
   "execution_count": 73,
   "metadata": {},
   "outputs": [
    {
     "data": {
      "text/plain": [
       "0.66882292577249047"
      ]
     },
     "execution_count": 73,
     "metadata": {},
     "output_type": "execute_result"
    }
   ],
   "source": [
    "# roc auc score - sensitivity vs specificity plot\n",
    "# Area under curve\n",
    "from sklearn.metrics import auc\n",
    "from sklearn.metrics import roc_auc_score\n",
    "roc_auc_score(y_test, y_pred)"
   ]
  },
  {
   "cell_type": "code",
   "execution_count": 77,
   "metadata": {},
   "outputs": [
    {
     "data": {
      "image/png": "[encoded data removed]",
      "text/plain": [
       "<matplotlib.figure.Figure at 0x23e0b231978>"
      ]
     },
     "metadata": {},
     "output_type": "display_data"
    }
   ],
   "source": [
    "# Plotting roc curve\n",
    "\n",
    "from sklearn import metrics\n",
    "\n",
    "false_positive_rate, true_positive_rate, thresholds = metrics.roc_curve(y_test, y_pred)\n",
    "roc_auc = auc(false_positive_rate, true_positive_rate)\n",
    "plt.plot(false_positive_rate, true_positive_rate,label='AUC Level = %0.2f' % (roc_auc))\n",
    "plt.legend(loc='lower right')\n",
    "plt.plot([0, 1], [0, 1], 'r--')\n",
    "plt.xlim([0, 1])\n",
    "plt.ylim([0, 1])\n",
    "plt.ylabel('True Positive Rate')\n",
    "plt.xlabel('False Positive Rate')\n",
    "plt.show()"
   ]
  }
 ],
 "metadata": {
  "kernelspec": {
   "display_name": "Python 3",
   "language": "python",
   "name": "python3"
  },
  "language_info": {
   "codemirror_mode": {
    "name": "ipython",
    "version": 3
   },
   "file_extension": ".py",
   "mimetype": "text/x-python",
   "name": "python",
   "nbconvert_exporter": "python",
   "pygments_lexer": "ipython3",
   "version": "3.6.3"
  }
 },
 "nbformat": 4,
 "nbformat_minor": 2
}
